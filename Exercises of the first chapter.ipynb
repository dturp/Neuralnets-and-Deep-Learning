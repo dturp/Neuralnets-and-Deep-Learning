{
 "cells": [
  {
   "cell_type": "markdown",
   "metadata": {},
   "source": [
    "# Using neural nets to recognize handwritten digits"
   ]
  },
  {
   "cell_type": "markdown",
   "metadata": {},
   "source": [
    "### 1) Sigmoid neurons simulating perceptrons, Part I"
   ]
  },
  {
   "cell_type": "markdown",
   "metadata": {},
   "source": [
    "Suppose we take all the weights and biases in a network of perceptrons, and multiply them by a positive constant, c>0. Show that the behaviour of the network doesn't change!"
   ]
  },
  {
   "cell_type": "markdown",
   "metadata": {},
   "source": [
    "### 1) Solution:\n",
    "\n",
    "Wheter a perceptron fires or not depends on the following condtion here shown with the multiplication of an additional constant $c$!\n",
    "\n",
    "$ c \\cdot (w \\cdot x + b) \\le 0 $ where $ c > 0 $ \n",
    "\n",
    "Now since c is a postive constant $(c>0)$ it has no effect on wheter the condtion is bigger or smaller than $0$"
   ]
  },
  {
   "cell_type": "markdown",
   "metadata": {},
   "source": [
    "\n",
    "\n",
    "### 2) Sigmoid neurons simulating perceptrons, Part II "
   ]
  },
  {
   "cell_type": "markdown",
   "metadata": {},
   "source": [
    "Suppose we have the same setup as the last problem - a network of perceptrons. Suppose also that the overall input to the network of perceptrons has been chosen. We won't need the actual input value, we just need the input to have been fixed. Suppose the weights and biases are such that w⋅x+b≠0 for the input x to any particular perceptron in the network. Now replace all the perceptrons in the network by sigmoid neurons, and multiply the weights and biases by a positive constant c>0. Show that in the limit as c→∞ the behaviour of this network of sigmoid neurons is exactly the same as the network of perceptrons. How can this fail when w⋅x+b=0 for one of the perceptrons? "
   ]
  },
  {
   "cell_type": "markdown",
   "metadata": {},
   "source": [
    " ### 2) Solution\n",
    " \n",
    "A sigmoid nueron is definded by the following statement (multiplied with constant $c>0$)\n",
    "\n",
    " $$\\sigma(x) = \\frac{1}{1+ exp(c \\cdot(-\\sum_j w_j x_j -b))}$$\n",
    " \n",
    " this is also the output of the sigmoid neuron.\n",
    " \n",
    " Now with $ c \\to \\infty$ we find that \n",
    " $$ \\sigma(x)=\\begin{cases}\n",
    "  1 ,  & \\text{wenn } \\sum_j w_j x_j + b >0\\\\\n",
    "  0, & \\text{wenn } \\sum_j w_j x_j +b < 0 \n",
    "\\end{cases} $$\n",
    "\n",
    "For the case where $\\sum_j w_j x_j +b=0$ , $\\sigma(0)=\\frac{1}{2}$ which is different form the perceptron perspective where the output can only be $0$ or $1$. "
   ]
  },
  {
   "cell_type": "markdown",
   "metadata": {},
   "source": [
    "###  3) Bitwise representation using neural networks\n",
    "\n",
    "There is a way of determining the bitwise representation of a digit by adding an extra layer to the three-layer network above. The extra layer converts the output from the previous layer into a binary representation, as illustrated in the figure below. Find a set of weights and biases for the new output layer. Assume that the first 3 layers of neurons are such that the correct output in the third layer (i.e., the old output layer) has activation at least 0.99, and incorrect outputs have activation less than 0.01. "
   ]
  },
  {
   "cell_type": "markdown",
   "metadata": {},
   "source": [
    "### 3) Solution\n",
    "This is not a real neural net because it does not leran biases and weights are fixed "
   ]
  },
  {
   "cell_type": "code",
   "execution_count": 8,
   "metadata": {
    "collapsed": false
   },
   "outputs": [
    {
     "data": {
      "text/html": [
       "<img src=\"http://neuralnetworksanddeeplearning.com/images/tikz13.png\"/>"
      ],
      "text/plain": [
       "<IPython.core.display.Image object>"
      ]
     },
     "execution_count": 8,
     "metadata": {},
     "output_type": "execute_result"
    }
   ],
   "source": [
    "from IPython.display import Image\n",
    "from IPython.core.display import HTML \n",
    "Image(url=\"http://neuralnetworksanddeeplearning.com/images/tikz13.png\")"
   ]
  },
  {
   "cell_type": "code",
   "execution_count": 87,
   "metadata": {
    "collapsed": false
   },
   "outputs": [
    {
     "data": {
      "text/plain": [
       "array([ 0.,  0.,  1.,  0.])"
      ]
     },
     "execution_count": 87,
     "metadata": {},
     "output_type": "execute_result"
    }
   ],
   "source": [
    "import numpy as np\n",
    "\n",
    "def sigmoid(z):\n",
    "    return 1.0/(1.0+np.exp(-z))\n",
    "\n",
    "def perceptron(z):\n",
    "    if (z>0): return 1\n",
    "    else: return 0\n",
    "#class that constructs a network\n",
    "\n",
    "class Network(object):\n",
    "    \n",
    "    def __init__(self,sizes):\n",
    "        self.sizes=sizes\n",
    "        self.biases=[np.zeros(y) for y in sizes[1:]]\n",
    "        self.weights= [np.ones([y, x])\n",
    "                        for x, y in zip(sizes[:-1], sizes[1:])]\n",
    "        \n",
    "    def feedforward(self,a):\n",
    "        \"\"\"Return the output of the network if ``a`` is input.\"\"\"\n",
    "        a = np.dot(self.weights, a)\n",
    "        return a\n",
    "\n",
    "# Weight Matrix for binary transformation\n",
    "binary=np.array([\n",
    "        [0,1,0,1,0,1,0,1,0,1],\n",
    "        [0,0,1,1,0,0,1,1,0,0],\n",
    "        [0,0,0,0,1,1,1,1,0,0],\n",
    "        [0,0,0,0,0,0,0,0,1,1] ])\n",
    "\n",
    "#Initalizing net\n",
    "net=Network([10,4])\n",
    "\n",
    "#Initializing the number as input for the net\n",
    "x=np.zeros(10)\n",
    "x[4]=1\n",
    "\n",
    "# producing the binary output\n",
    "net.weights=binary\n",
    "net.feedforward(x)\n",
    "\n"
   ]
  },
  {
   "cell_type": "code",
   "execution_count": null,
   "metadata": {
    "collapsed": true
   },
   "outputs": [],
   "source": []
  },
  {
   "cell_type": "code",
   "execution_count": null,
   "metadata": {
    "collapsed": true
   },
   "outputs": [],
   "source": []
  }
 ],
 "metadata": {
  "kernelspec": {
   "display_name": "Python 2",
   "language": "python",
   "name": "python2"
  },
  "language_info": {
   "codemirror_mode": {
    "name": "ipython",
    "version": 2
   },
   "file_extension": ".py",
   "mimetype": "text/x-python",
   "name": "python",
   "nbconvert_exporter": "python",
   "pygments_lexer": "ipython2",
   "version": "2.7.12"
  }
 },
 "nbformat": 4,
 "nbformat_minor": 1
}
